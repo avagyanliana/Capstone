{
 "cells": [
  {
   "cell_type": "markdown",
   "id": "15229cca",
   "metadata": {},
   "source": [
    "# This is the Data Collection Notebook for Travel Advisor"
   ]
  },
  {
   "cell_type": "code",
   "execution_count": 97,
   "id": "b8ef8e4b",
   "metadata": {},
   "outputs": [],
   "source": [
    "from selenium import webdriver\n",
    "from selenium.webdriver.chrome.options import Options\n",
    "from bs4 import BeautifulSoup\n",
    "# chrome_options = Options()\n",
    "# chrome_options.add_argument('--headless')  \n",
    "import pandas as pd"
   ]
  },
  {
   "cell_type": "markdown",
   "id": "6ae49414",
   "metadata": {},
   "source": [
    "### The Function below prepares the data of the top 12 cities"
   ]
  },
  {
   "cell_type": "code",
   "execution_count": 2,
   "id": "3ad33349",
   "metadata": {
    "scrolled": true
   },
   "outputs": [],
   "source": [
    "def scrape_tripadvisor_attractions(city, country, url_format):\n",
    "    \n",
    "    names = []\n",
    "    chrome_options = Options()\n",
    "    \n",
    "    # Running Chrome in headless mode (without opening browser window)\n",
    "    chrome_options.add_argument(\"--headless\")  \n",
    "\n",
    "    for i in range(0, 3001, 30):\n",
    "        driver = webdriver.Chrome(options = chrome_options)\n",
    "        url = url_format.format(i)\n",
    "        driver.get(url)\n",
    "        page_source = driver.page_source\n",
    "        driver.quit()\n",
    "       \n",
    "        soup = BeautifulSoup(page_source, 'html.parser')\n",
    "\n",
    "        name_elements = soup.find_all('div', {\"class\": \"XfVdV o AIbhI\"})\n",
    "        \n",
    "        for element in name_elements:\n",
    "            \n",
    "            # Checking if element exists before calling get_text()\n",
    "            \n",
    "            if element:\n",
    "                names.append(element.get_text(strip=True))\n",
    "                \n",
    "    # Getting rid of numbers in front of names\n",
    "    \n",
    "    final_list = [item.split('.', 1)[1] for item in names]\n",
    "    \n",
    "    # Converting our list into a dataframe\n",
    "    \n",
    "    df = pd.DataFrame(list(final_list), columns=['Attraction'])\n",
    "    df['City'] = f\"{city}, {country}\"\n",
    "\n",
    "    return df"
   ]
  },
  {
   "cell_type": "markdown",
   "id": "383f5162",
   "metadata": {},
   "source": [
    "### London"
   ]
  },
  {
   "cell_type": "code",
   "execution_count": 3,
   "id": "2b7ac9a7",
   "metadata": {},
   "outputs": [
    {
     "name": "stdout",
     "output_type": "stream",
     "text": [
      "                          Attraction                    City\n",
      "0                  Royal Opera House  London, United Kingdom\n",
      "1                        HMS Belfast  London, United Kingdom\n",
      "2                 London Underground  London, United Kingdom\n",
      "3     Tottenham Hotspur Stadium Tour  London, United Kingdom\n",
      "4                          Frameless  London, United Kingdom\n",
      "...                              ...                     ...\n",
      "1615               Rooftop Film Club  London, United Kingdom\n",
      "1616                          Floris  London, United Kingdom\n",
      "1617        The Great Exhibition Bar  London, United Kingdom\n",
      "1618                   Big Bus Tours  London, United Kingdom\n",
      "1619          Boom Battle Bar The O2  London, United Kingdom\n",
      "\n",
      "[1620 rows x 2 columns]\n"
     ]
    }
   ],
   "source": [
    "london_df = scrape_tripadvisor_attractions(\"London\", \"United Kingdom\", \"https://www.tripadvisor.com/Attractions-g186338-Activities-oa{}-London_England.html\")\n",
    "print(london_df)\n",
    "\n",
    "# Saving DF into a file\n",
    "london_df.to_csv('/Users/lianaavagyan/Desktop/london_df.csv', index=False)"
   ]
  },
  {
   "cell_type": "markdown",
   "id": "c1ac4d3f",
   "metadata": {},
   "source": [
    "### Paris"
   ]
  },
  {
   "cell_type": "code",
   "execution_count": 9,
   "id": "16f0e828",
   "metadata": {},
   "outputs": [
    {
     "name": "stdout",
     "output_type": "stream",
     "text": [
      "                                             Attraction           City\n",
      "0                              Paris Ultimate Food Tour  Paris, France\n",
      "1     Musée d’Orsay Orsay Museum Tour - Semi-Private...  Paris, France\n",
      "2     Somme Battlefields from Paris with Australian ...  Paris, France\n",
      "3     Louvre Museum Guided Tour Options with Entry T...  Paris, France\n",
      "4                     Big Bus Paris Open Top Night Tour  Paris, France\n",
      "...                                                 ...            ...\n",
      "1615     Brussels to Paris Private Full-Day Return Trip  Paris, France\n",
      "1616  Le Moulin Jaune & Castle of Rentilly - Private...  Paris, France\n",
      "1617                   Wine Your Way Through the Marais  Paris, France\n",
      "1618  Departure Transfer from Paris to Paris Airport...  Paris, France\n",
      "1619  8 hours Paris City Tour with Seine River Cruis...  Paris, France\n",
      "\n",
      "[1620 rows x 2 columns]\n"
     ]
    }
   ],
   "source": [
    "paris_df = scrape_tripadvisor_attractions(\"Paris\", \"France\", \"https://www.tripadvisor.com/Attraction_Products-g187147-o{}-Paris_Ile_de_France.html\")\n",
    "print(paris_df)\n",
    "\n",
    "# Saving DF into a file\n",
    "paris_df.to_csv('/Users/lianaavagyan/Desktop/paris_df.csv', index=False)"
   ]
  },
  {
   "cell_type": "markdown",
   "id": "b6469e1d",
   "metadata": {},
   "source": [
    "### Crete"
   ]
  },
  {
   "cell_type": "code",
   "execution_count": 24,
   "id": "ed63ab35",
   "metadata": {},
   "outputs": [
    {
     "name": "stdout",
     "output_type": "stream",
     "text": [
      "                                            Attraction           City\n",
      "0    Full-Day Private Adventure: Knossos, Zeus Cave...  Crete, Greece\n",
      "1    Sailing Cruise to Dia Island with Meal and Wat...  Crete, Greece\n",
      "2                     Samaria Gorge Hiking from Chania  Crete, Greece\n",
      "3    Day Tour to Santorini Island from Heraklion Crete  Crete, Greece\n",
      "4    Road-trip to Lasithi: Zeus Cave, Krasi, Vidian...  Crete, Greece\n",
      "..                                                 ...            ...\n",
      "945                                   South Crete Tour  Crete, Greece\n",
      "946  WEST CRETE LONG TRIP TOUR up to 4 to 15 customers  Crete, Greece\n",
      "947                 NORTH CRETE TOUR up to 4 customers  Crete, Greece\n",
      "948  East Crete Around the Mountains Tour 4 to 15 c...  Crete, Greece\n",
      "949  Transfer from Chania airport to Paleochora up ...  Crete, Greece\n",
      "\n",
      "[950 rows x 2 columns]\n"
     ]
    }
   ],
   "source": [
    "crete_df = scrape_tripadvisor_attractions(\"Crete\", \"Greece\", \"https://www.tripadvisor.com/Attraction_Products-g189413-o{}-Crete.html\")\n",
    "print(crete_df)\n",
    "\n",
    "# Saving DF into a file\n",
    "crete_df.to_csv('/Users/lianaavagyan/Desktop/crete_df.csv', index=False)"
   ]
  },
  {
   "cell_type": "markdown",
   "id": "c196efb5",
   "metadata": {},
   "source": [
    "### Bali"
   ]
  },
  {
   "cell_type": "code",
   "execution_count": 29,
   "id": "297e73fd",
   "metadata": {},
   "outputs": [
    {
     "name": "stdout",
     "output_type": "stream",
     "text": [
      "                          Attraction             City\n",
      "0                      Waterbom Bali  Bali, Indonesia\n",
      "1     Sacred Monkey Forest Sanctuary  Bali, Indonesia\n",
      "2            Tegalalang Rice Terrace  Bali, Indonesia\n",
      "3                           Bali Zoo  Bali, Indonesia\n",
      "4                    Museum PASIFIKA  Bali, Indonesia\n",
      "...                              ...              ...\n",
      "1615          Bali Family Safe Tours  Bali, Indonesia\n",
      "1616              Bali Volcano Tours  Bali, Indonesia\n",
      "1617                 Karmen & Marius  Bali, Indonesia\n",
      "1618       Morning Light Yoga Studio  Bali, Indonesia\n",
      "1619                  Bali Different  Bali, Indonesia\n",
      "\n",
      "[1620 rows x 2 columns]\n"
     ]
    }
   ],
   "source": [
    "bali_df = scrape_tripadvisor_attractions(\"Bali\", \"Indonesia\", \"https://www.tripadvisor.com/Attractions-g294226-Activities-oa{}-Bali.html\")\n",
    "print(bali_df)\n",
    "\n",
    "# Saving DF into a file\n",
    "bali_df.to_csv('/Users/lianaavagyan/Desktop/bali_df.csv', index=False)"
   ]
  },
  {
   "cell_type": "markdown",
   "id": "64655bc5",
   "metadata": {},
   "source": [
    "### Rome"
   ]
  },
  {
   "cell_type": "code",
   "execution_count": 41,
   "id": "733face8",
   "metadata": {},
   "outputs": [
    {
     "name": "stdout",
     "output_type": "stream",
     "text": [
      "                  Attraction         City\n",
      "0                  Colosseum  Rome, Italy\n",
      "1                   Pantheon  Rome, Italy\n",
      "2             Trevi Fountain  Rome, Italy\n",
      "3              Piazza Navona  Rome, Italy\n",
      "4          Galleria Borghese  Rome, Italy\n",
      "...                      ...          ...\n",
      "1555         Al Punto Divino  Rome, Italy\n",
      "1556    Italy Tours for Kids  Rome, Italy\n",
      "1557            L'Alchimista  Rome, Italy\n",
      "1558     Guia Turistica Roma  Rome, Italy\n",
      "1559  Koala 2.0 Industry Aps  Rome, Italy\n",
      "\n",
      "[1560 rows x 2 columns]\n"
     ]
    }
   ],
   "source": [
    "rome_df = scrape_tripadvisor_attractions(\"Rome\", \"Italy\", \"https://www.tripadvisor.com/Attractions-g187791-Activities-oa{}-Rome_Lazio.html\")\n",
    "print(rome_df)\n",
    "\n",
    "# Saving DF into a file\n",
    "rome_df.to_csv('/Users/lianaavagyan/Desktop/rome_df.csv', index=False)"
   ]
  },
  {
   "cell_type": "markdown",
   "id": "ba92941e",
   "metadata": {},
   "source": [
    "### Phuket"
   ]
  },
  {
   "cell_type": "code",
   "execution_count": 45,
   "id": "f451b3c2",
   "metadata": {},
   "outputs": [
    {
     "name": "stdout",
     "output_type": "stream",
     "text": [
      "                                Attraction              City\n",
      "0                        Big Buddha Phuket  Phuket, Thailand\n",
      "1                              Bangla Road  Phuket, Thailand\n",
      "2            Green Elephant Sanctuary Park  Phuket, Thailand\n",
      "3                             Banana Beach  Phuket, Thailand\n",
      "4                               Kata Beach  Phuket, Thailand\n",
      "...                                    ...               ...\n",
      "1506                          Patong Beach  Phuket, Thailand\n",
      "1507                    See Adventure Club  Phuket, Thailand\n",
      "1508  Sanae Thai Outcall Massage In Phuket  Phuket, Thailand\n",
      "1509      Sanaethai Phuket Outcall Massage  Phuket, Thailand\n",
      "1510               Phuket Travel City Tour  Phuket, Thailand\n",
      "\n",
      "[1511 rows x 2 columns]\n"
     ]
    }
   ],
   "source": [
    "phuket_df = scrape_tripadvisor_attractions(\"Phuket\", \"Thailand\", \"https://www.tripadvisor.com/Attractions-g293920-Activities-oa{}-Phuket.html\")\n",
    "print(phuket_df)\n",
    "\n",
    "# Saving DF into a file\n",
    "phuket_df.to_csv('/Users/lianaavagyan/Desktop/phuket_df.csv', index=False)"
   ]
  },
  {
   "cell_type": "markdown",
   "id": "a22faec7",
   "metadata": {},
   "source": [
    "### Sicily"
   ]
  },
  {
   "cell_type": "code",
   "execution_count": 46,
   "id": "971b0985",
   "metadata": {},
   "outputs": [
    {
     "name": "stdout",
     "output_type": "stream",
     "text": [
      "                                 Attraction           City\n",
      "0                          Valle dei Templi  Sicily, Italy\n",
      "1                                   Ortigia  Sicily, Italy\n",
      "2                                Mount Etna  Sicily, Italy\n",
      "3               Ancient Theatre of Taormina  Sicily, Italy\n",
      "4                      Spiaggia dei Conigli  Sicily, Italy\n",
      "...                                     ...            ...\n",
      "1555                     Chiesa del Carmine  Sicily, Italy\n",
      "1556  Chiesa Santa Maria della Misericordia  Sicily, Italy\n",
      "1557                          Forte Gonzaga  Sicily, Italy\n",
      "1558          Chiesa di San Lorenzo Martire  Sicily, Italy\n",
      "1559          Monumento al Cardinale Dusmet  Sicily, Italy\n",
      "\n",
      "[1560 rows x 2 columns]\n"
     ]
    }
   ],
   "source": [
    "sicily_df = scrape_tripadvisor_attractions(\"Sicily\", \"Italy\", \"https://www.tripadvisor.com/Attractions-g187886-Activities-oa{}-Sicily.html\")\n",
    "print(sicily_df)\n",
    "\n",
    "# Saving DF into a file\n",
    "sicily_df.to_csv('/Users/lianaavagyan/Desktop/sicily_df.csv', index=False)"
   ]
  },
  {
   "cell_type": "markdown",
   "id": "8ddf10c7",
   "metadata": {},
   "source": [
    "### Majorca"
   ]
  },
  {
   "cell_type": "code",
   "execution_count": 60,
   "id": "7b50dd41",
   "metadata": {},
   "outputs": [
    {
     "name": "stdout",
     "output_type": "stream",
     "text": [
      "                           Attraction                       City\n",
      "0                     Playa Cala Gran  Majorca, Balearic Islands\n",
      "1                Playa de Ses Salines  Majorca, Balearic Islands\n",
      "2                Formentor Lighthouse  Majorca, Balearic Islands\n",
      "3        Mirador Es Colomer Formentor  Majorca, Balearic Islands\n",
      "4                Jungle Parc Mallorca  Majorca, Balearic Islands\n",
      "...                               ...                        ...\n",
      "1132                    Sant Elm Yoga  Majorca, Balearic Islands\n",
      "1133  Tablao Flamenco Alma (Mallorca)  Majorca, Balearic Islands\n",
      "1134       Destination Services Spain  Majorca, Balearic Islands\n",
      "1135          Vitalyacht's & Egeajets  Majorca, Balearic Islands\n",
      "1136                    Lance Eriksen  Majorca, Balearic Islands\n",
      "\n",
      "[1137 rows x 2 columns]\n"
     ]
    }
   ],
   "source": [
    "majorca_df = scrape_tripadvisor_attractions(\"Majorca\", \"Balearic Islands\", \"https://www.tripadvisor.com/Attractions-g187462-Activities-oa0{}-Majorca_Balearic_Islands.html\")\n",
    "print(majorca_df)\n",
    "\n",
    "# Saving DF into a file\n",
    "majorca_df.to_csv('/Users/lianaavagyan/Desktop/majorca_df.csv', index=False)"
   ]
  },
  {
   "cell_type": "markdown",
   "id": "9712503c",
   "metadata": {},
   "source": [
    "### Barcelona"
   ]
  },
  {
   "cell_type": "code",
   "execution_count": 62,
   "id": "89e133a3",
   "metadata": {},
   "outputs": [
    {
     "name": "stdout",
     "output_type": "stream",
     "text": [
      "                          Attraction              City\n",
      "0     Basílica de la Sagrada Familia  Barcelona, Spain\n",
      "1                        Casa Batlló  Barcelona, Spain\n",
      "2       Gothic Quarter (Barri Gotic)  Barcelona, Spain\n",
      "3            Palace of Catalan Music  Barcelona, Spain\n",
      "4                         Parc Guell  Barcelona, Spain\n",
      "...                              ...               ...\n",
      "1615            Histories de Ciencia  Barcelona, Spain\n",
      "1616  Centre Civic Cotxeres de Sants  Barcelona, Spain\n",
      "1617             Taller de Chocolate  Barcelona, Spain\n",
      "1618                 Casa Muley Afid  Barcelona, Spain\n",
      "1619              Bcnjoy Party Tours  Barcelona, Spain\n",
      "\n",
      "[1620 rows x 2 columns]\n"
     ]
    }
   ],
   "source": [
    "barcelona_df = scrape_tripadvisor_attractions(\"Barcelona\", \"Spain\", \"https://www.tripadvisor.com/Attractions-g187497-Activities-oa{}-Barcelona_Catalonia.html\")\n",
    "print(barcelona_df)\n",
    "\n",
    "# Saving DF into a file\n",
    "barcelona_df.to_csv('/Users/lianaavagyan/Desktop/barcelona_df.csv', index=False)"
   ]
  },
  {
   "cell_type": "markdown",
   "id": "16e51531",
   "metadata": {},
   "source": [
    "### Istanbul"
   ]
  },
  {
   "cell_type": "code",
   "execution_count": 74,
   "id": "3138468a",
   "metadata": {},
   "outputs": [
    {
     "name": "stdout",
     "output_type": "stream",
     "text": [
      "                      Attraction              City\n",
      "0            Hagia Sophia Mosque  Istanbul, Turkey\n",
      "1               Basilica Cistern  Istanbul, Turkey\n",
      "2                    Blue Mosque  Istanbul, Turkey\n",
      "3             Suleymaniye Mosque  Istanbul, Turkey\n",
      "4           Sultanahmet District  Istanbul, Turkey\n",
      "...                          ...               ...\n",
      "1675    Village Park Country Bar  Istanbul, Turkey\n",
      "1676                 ByButa Tour  Istanbul, Turkey\n",
      "1677  Magnaura Tours - Day Tours  Istanbul, Turkey\n",
      "1678                  Cinemarine  Istanbul, Turkey\n",
      "1679                Mavi Marmara  Istanbul, Turkey\n",
      "\n",
      "[1680 rows x 2 columns]\n"
     ]
    }
   ],
   "source": [
    "istanbul_df = scrape_tripadvisor_attractions(\"Istanbul\", \"Turkey\", \"https://www.tripadvisor.com/Attractions-g293974-Activities-oa{}-Istanbul.html\")\n",
    "print(istanbul_df)\n",
    "\n",
    "# Saving DF into a file\n",
    "istanbul_df.to_csv('/Users/lianaavagyan/Desktop/istanbul_df.csv', index=False)"
   ]
  },
  {
   "cell_type": "markdown",
   "id": "7fb592c6",
   "metadata": {},
   "source": [
    "### Dubai"
   ]
  },
  {
   "cell_type": "code",
   "execution_count": 82,
   "id": "588c588b",
   "metadata": {},
   "outputs": [
    {
     "name": "stdout",
     "output_type": "stream",
     "text": [
      "                          Attraction                         City\n",
      "0                 The Dubai Fountain  Dubai, United Arab Emirates\n",
      "1                       Burj Khalifa  Dubai, United Arab Emirates\n",
      "2     Atlantis Aquaventure Waterpark  Dubai, United Arab Emirates\n",
      "3                     The Dubai Mall  Dubai, United Arab Emirates\n",
      "4                       AURA SKYPOOL  Dubai, United Arab Emirates\n",
      "...                              ...                          ...\n",
      "1585              Desert Safari Deal  Dubai, United Arab Emirates\n",
      "1586                       Chuk Palu  Dubai, United Arab Emirates\n",
      "1587               Closet Case Dubai  Dubai, United Arab Emirates\n",
      "1588                   Travelo Dubai  Dubai, United Arab Emirates\n",
      "1589      Sun & Sky Tourism & Travel  Dubai, United Arab Emirates\n",
      "\n",
      "[1590 rows x 2 columns]\n"
     ]
    }
   ],
   "source": [
    "dubai_df = scrape_tripadvisor_attractions(\"Dubai\", \"United Arab Emirates\", \"https://www.tripadvisor.com/Attractions-g295424-Activities-oa{}-Dubai_Emirate_of_Dubai.html\")\n",
    "print(dubai_df)\n",
    "\n",
    "# Saving DF into a file\n",
    "dubai_df.to_csv('/Users/lianaavagyan/Desktop/dubai_df.csv', index=False)"
   ]
  },
  {
   "cell_type": "markdown",
   "id": "05a09cff",
   "metadata": {},
   "source": [
    "### Vienna"
   ]
  },
  {
   "cell_type": "code",
   "execution_count": 91,
   "id": "75cb468f",
   "metadata": {},
   "outputs": [
    {
     "name": "stdout",
     "output_type": "stream",
     "text": [
      "                        Attraction             City\n",
      "0                        Volksoper  Vienna, Austria\n",
      "1                        Donaupark  Vienna, Austria\n",
      "2     Spittelberg Christmas Market  Vienna, Austria\n",
      "3               Ernst Fuchs Museum  Vienna, Austria\n",
      "4          3D PicArt Museum Vienna  Vienna, Austria\n",
      "...                            ...              ...\n",
      "1195                  Wien Gitarre  Vienna, Austria\n",
      "1196             Casino Kulinarium  Vienna, Austria\n",
      "1197                      Rotknopf  Vienna, Austria\n",
      "1198                    BTC Travel  Vienna, Austria\n",
      "1199                       Xpatbus  Vienna, Austria\n",
      "\n",
      "[1200 rows x 2 columns]\n"
     ]
    }
   ],
   "source": [
    "vienna_df = scrape_tripadvisor_attractions(\"Vienna\", \"Austria\", \"https://www.tripadvisor.com/Attractions-g190454-Activities-oa{}-Vienna.html\")\n",
    "print(vienna_df)\n",
    "\n",
    "# Saving DF into a file\n",
    "vienna_df.to_csv('/Users/lianaavagyan/Desktop/vienna_df.csv', index=False)"
   ]
  },
  {
   "cell_type": "markdown",
   "id": "605aacbd",
   "metadata": {},
   "source": [
    "### Concatenating all the DFs we have"
   ]
  },
  {
   "cell_type": "code",
   "execution_count": 93,
   "id": "377975b8",
   "metadata": {
    "scrolled": true
   },
   "outputs": [
    {
     "data": {
      "text/html": [
       "<div>\n",
       "<style scoped>\n",
       "    .dataframe tbody tr th:only-of-type {\n",
       "        vertical-align: middle;\n",
       "    }\n",
       "\n",
       "    .dataframe tbody tr th {\n",
       "        vertical-align: top;\n",
       "    }\n",
       "\n",
       "    .dataframe thead th {\n",
       "        text-align: right;\n",
       "    }\n",
       "</style>\n",
       "<table border=\"1\" class=\"dataframe\">\n",
       "  <thead>\n",
       "    <tr style=\"text-align: right;\">\n",
       "      <th></th>\n",
       "      <th>Attraction</th>\n",
       "      <th>City</th>\n",
       "    </tr>\n",
       "  </thead>\n",
       "  <tbody>\n",
       "    <tr>\n",
       "      <th>0</th>\n",
       "      <td>Royal Opera House</td>\n",
       "      <td>London, United Kingdom</td>\n",
       "    </tr>\n",
       "    <tr>\n",
       "      <th>1</th>\n",
       "      <td>HMS Belfast</td>\n",
       "      <td>London, United Kingdom</td>\n",
       "    </tr>\n",
       "    <tr>\n",
       "      <th>2</th>\n",
       "      <td>London Underground</td>\n",
       "      <td>London, United Kingdom</td>\n",
       "    </tr>\n",
       "    <tr>\n",
       "      <th>3</th>\n",
       "      <td>Tottenham Hotspur Stadium Tour</td>\n",
       "      <td>London, United Kingdom</td>\n",
       "    </tr>\n",
       "    <tr>\n",
       "      <th>4</th>\n",
       "      <td>Frameless</td>\n",
       "      <td>London, United Kingdom</td>\n",
       "    </tr>\n",
       "  </tbody>\n",
       "</table>\n",
       "</div>"
      ],
      "text/plain": [
       "                       Attraction                    City\n",
       "0               Royal Opera House  London, United Kingdom\n",
       "1                     HMS Belfast  London, United Kingdom\n",
       "2              London Underground  London, United Kingdom\n",
       "3  Tottenham Hotspur Stadium Tour  London, United Kingdom\n",
       "4                       Frameless  London, United Kingdom"
      ]
     },
     "execution_count": 93,
     "metadata": {},
     "output_type": "execute_result"
    }
   ],
   "source": [
    "cities_list = [london_df, paris_df, crete_df, bali_df, rome_df, phuket_df,sicily_df, majorca_df, barcelona_df, istanbul_df, dubai_df, vienna_df]\n",
    "cities_df = pd.concat(cities_list)\n",
    "cities_df.head()"
   ]
  },
  {
   "cell_type": "code",
   "execution_count": 94,
   "id": "810b6fad",
   "metadata": {},
   "outputs": [
    {
     "data": {
      "text/plain": [
       "array(['London, United Kingdom', 'Paris, France', 'Crete, Greece',\n",
       "       'Bali, Indonesia', 'Rome, Italy', 'Phuket, Thailand',\n",
       "       'Sicily, Italy', 'Majorca, Balearic Islands', 'Barcelona, Spain',\n",
       "       'Istanbul, Turkey', 'Dubai, United Arab Emirates',\n",
       "       'Vienna, Austria'], dtype=object)"
      ]
     },
     "execution_count": 94,
     "metadata": {},
     "output_type": "execute_result"
    }
   ],
   "source": [
    "# Viewing all 12 cities in the DF\n",
    "\n",
    "cities_df['City'].unique()"
   ]
  },
  {
   "cell_type": "code",
   "execution_count": 95,
   "id": "d4d01835",
   "metadata": {},
   "outputs": [],
   "source": [
    "# Saving to .CSV file\n",
    "\n",
    "cities_df.to_csv('/Users/lianaavagyan/Desktop/capstone/cities_df')"
   ]
  },
  {
   "cell_type": "markdown",
   "id": "e1e22414",
   "metadata": {},
   "source": [
    " "
   ]
  },
  {
   "cell_type": "markdown",
   "id": "3593d89a",
   "metadata": {},
   "source": [
    "### Analysis is continued in Modeling Notebook"
   ]
  },
  {
   "cell_type": "markdown",
   "id": "27e61787",
   "metadata": {},
   "source": [
    " "
   ]
  }
 ],
 "metadata": {
  "kernelspec": {
   "display_name": "Python 3 (ipykernel)",
   "language": "python",
   "name": "python3"
  },
  "language_info": {
   "codemirror_mode": {
    "name": "ipython",
    "version": 3
   },
   "file_extension": ".py",
   "mimetype": "text/x-python",
   "name": "python",
   "nbconvert_exporter": "python",
   "pygments_lexer": "ipython3",
   "version": "3.11.5"
  }
 },
 "nbformat": 4,
 "nbformat_minor": 5
}
